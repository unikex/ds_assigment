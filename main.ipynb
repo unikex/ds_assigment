{
  "metadata": {
    "kernelspec": {
      "name": "python",
      "display_name": "Python (Pyodide)",
      "language": "python"
    },
    "language_info": {
      "codemirror_mode": {
        "name": "python",
        "version": 3
      },
      "file_extension": ".py",
      "mimetype": "text/x-python",
      "name": "python",
      "nbconvert_exporter": "python",
      "pygments_lexer": "ipython3",
      "version": "3.8"
    }
  },
  "nbformat_minor": 4,
  "nbformat": 4,
  "cells": [
    {
      "cell_type": "markdown",
      "source": "Assigment : jupyter notework",
      "metadata": {}
    },
    {
      "cell_type": "markdown",
      "source": "This notebook covers various aspects of data science",
      "metadata": {}
    },
    {
      "cell_type": "markdown",
      "source": "## Data Science Languages  \n- Python  \n- R  \n- Julia  \n- SQL",
      "metadata": {}
    },
    {
      "cell_type": "markdown",
      "source": "## Data Science Libraries  \n- Pandas  \n- NumPy  \n- Matplotlib  \n- Scikit-learn  \n- TensorFlow",
      "metadata": {}
    },
    {
      "cell_type": "markdown",
      "source": "## Data Science Tools  \n| Tool        | Purpose         | Language |\n|-------------|-----------------|----------|\n| Jupyter     | Data analysis   | Python   |\n| RStudio     | Data analysis   | R        |\n| Tableau     | Data visualization | -        |",
      "metadata": {}
    },
    {
      "cell_type": "markdown",
      "source": "## Arithmetic Expression Examples  \nThis section will demonstrate basic arithmetic expressions in Python.",
      "metadata": {}
    },
    {
      "cell_type": "code",
      "source": "result = (5 * 10) + 3  \nresult",
      "metadata": {
        "trusted": true
      },
      "outputs": [
        {
          "execution_count": 3,
          "output_type": "execute_result",
          "data": {
            "text/plain": "53"
          },
          "metadata": {}
        }
      ],
      "execution_count": 3
    },
    {
      "cell_type": "code",
      "source": "minutes = 120  \nhours = minutes / 60  \nhours",
      "metadata": {
        "trusted": true
      },
      "outputs": [
        {
          "execution_count": 4,
          "output_type": "execute_result",
          "data": {
            "text/plain": "2.0"
          },
          "metadata": {}
        }
      ],
      "execution_count": 4
    },
    {
      "cell_type": "markdown",
      "source": "## Objectives  \n- Learn the basics of data science languages, libraries, and tools.  \n- Practice performing arithmetic operations and conversions.  \n- Share the notebook on GitHub.",
      "metadata": {}
    },
    {
      "cell_type": "markdown",
      "source": "## Author  \nNick YU",
      "metadata": {}
    }
  ]
}